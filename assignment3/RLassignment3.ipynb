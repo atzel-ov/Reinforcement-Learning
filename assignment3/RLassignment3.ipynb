{
  "nbformat": 4,
  "nbformat_minor": 0,
  "metadata": {
    "colab": {
      "provenance": [],
      "gpuType": "T4"
    },
    "kernelspec": {
      "name": "python3",
      "display_name": "Python 3"
    },
    "language_info": {
      "name": "python"
    },
    "accelerator": "GPU"
  },
  "cells": [
    {
      "cell_type": "code",
      "execution_count": null,
      "metadata": {
        "id": "XQUq5gSOrjjp"
      },
      "outputs": [],
      "source": [
        "import numpy as np\n",
        "import matplotlib.pyplot as plt\n",
        "import random"
      ]
    },
    {
      "cell_type": "markdown",
      "source": [
        "**Functions for Environment Generation**"
      ],
      "metadata": {
        "id": "_p3_240Gfx4w"
      }
    },
    {
      "cell_type": "code",
      "source": [
        "def get_binary_combinations(N):\n",
        "\n",
        "    # Parameter initialization\n",
        "    B = {i: [] for i in range(np.power(2,N))}\n",
        "\n",
        "    # Saving every combination of H/L given N\n",
        "    for i in range(1 << N):\n",
        "        i_b = format(i, '0' + str(N) + 'b')\n",
        "        for j in range(N):\n",
        "            B[i].append((1 if i_b[j] == '0' else 0))\n",
        "    return B\n",
        "\n",
        "\n",
        "def generate_state_space(N):\n",
        "\n",
        "    # Parameters needed\n",
        "    S = {i: [] for i in range(N*np.power(2,N))}\n",
        "    buffer = []\n",
        "    B = get_binary_combinations(N)\n",
        "\n",
        "    # State space creation\n",
        "\n",
        "    # Getting all possible stocks we invest given the stock number\n",
        "    for i in range(N):\n",
        "        buffer.extend([i]*np.power(2,N))\n",
        "\n",
        "    # Saving the these stocks as the first element of the list for each state\n",
        "    for i in range(N*np.power(2,N)):\n",
        "        S[i].append(buffer[i])\n",
        "\n",
        "    # Getting all the different combinations of H/L for every stock played\n",
        "    for i in range(N*np.power(2,N)):\n",
        "        S[i].extend(B[i % np.power(2,N)])\n",
        "\n",
        "    return S\n",
        "\n",
        "\n",
        "def generate_markov_probabilities(N):\n",
        "    P = np.zeros((N,4))\n",
        "\n",
        "    if N == 2:        #pHH  pHL  pLH  pLL\n",
        "        P = np.array([[0.7, 0.3, 0.3, 0.7],   #stock 0\n",
        "                      [0.8, 0.2, 0.4, 0.6]])  #stock 1\n",
        "\n",
        "    else:\n",
        "        for i in range(N):\n",
        "            if i< N/2 :\n",
        "                p_hl = 0.1\n",
        "                p_lh = 0.1\n",
        "\n",
        "            else :\n",
        "                p_hl = 0.5\n",
        "                p_lh = 0.5\n",
        "\n",
        "            P[i] = np.array([1-p_hl, p_hl, p_lh, 1-p_lh])\n",
        "\n",
        "    return P.transpose()\n",
        "\n",
        "\n",
        "def generate_stock_rewards(N):\n",
        "    r = np.zeros((N,2))\n",
        "    if N == 2:\n",
        "        #              r_H    r_L\n",
        "        r = np.array([[0.08, -0.01],\n",
        "                      [0.04,  0.01]])\n",
        "    else:\n",
        "        for i in range(N):\n",
        "            r[i][0] = np.random.uniform(-0.02, 0.1)\n",
        "            r[i][1] = np.random.uniform(-0.02, 0.1)\n",
        "\n",
        "    return r.transpose()\n"
      ],
      "metadata": {
        "id": "j2RZBdRg-xS_"
      },
      "execution_count": null,
      "outputs": []
    },
    {
      "cell_type": "markdown",
      "source": [
        "**Transition Probability and Transition Reward functions**"
      ],
      "metadata": {
        "id": "VfnEiD66gBBz"
      }
    },
    {
      "cell_type": "code",
      "source": [
        "def get_transition_probabilities(a,s,states,P):\n",
        "    N = np.size(s)-1\n",
        "\n",
        "    s_prime = {i:states[k] for i,k in zip(range(np.power(2,N)),range(a*np.power(2,N),(a+1)*np.power(2,N)))}\n",
        "    args_next = [k for k in range(a*np.power(2,N),(a+1)*np.power(2,N))]\n",
        "\n",
        "    p = np.ones((np.power(2,N),))\n",
        "\n",
        "    for i in range(np.power(2,N)):\n",
        "        for n in range(N):\n",
        "            if s[n+1] == 1 and s_prime[i][n+1] == 1:\n",
        "                p[i] *= P[0][n]\n",
        "            elif s[n+1] == 1 and s_prime[i][n+1] == 0:\n",
        "                p[i] *= P[1][n]\n",
        "            elif s[n+1] == 0 and s_prime[i][n+1] == 1:\n",
        "                p[i] *= P[2][n]\n",
        "            else:\n",
        "                p[i] *= P[3][n]\n",
        "\n",
        "    return p, args_next\n",
        "\n",
        "\n",
        "def get_transition_reward(a, s, r_stock, P, c):\n",
        "    current_stock = s[0]\n",
        "    current_state = s[a + 1]\n",
        "\n",
        "    if a == current_stock:\n",
        "        if current_state == 1:\n",
        "            R = r_stock[0][a] * P[0][a] + r_stock[1][a] * P[1][a]\n",
        "        else:\n",
        "            R = r_stock[0][a] * P[2][a] + r_stock[1][a] * P[3][a]\n",
        "    else:\n",
        "        if current_state == 1:\n",
        "            R = (r_stock[0][a] * P[0][a] + r_stock[1][a] * P[1][a]) - c\n",
        "        else:\n",
        "            R = (r_stock[0][a] * P[2][a] + r_stock[1][a] * P[3][a]) - c\n",
        "\n",
        "    return R"
      ],
      "metadata": {
        "id": "u9eZzgFex8Dh"
      },
      "execution_count": null,
      "outputs": []
    },
    {
      "cell_type": "markdown",
      "source": [
        "**Agent Algorithms**"
      ],
      "metadata": {
        "id": "4bOvIAchgWJx"
      }
    },
    {
      "cell_type": "code",
      "source": [
        "def policy_evaluation(S,A,P,R,gamma,c,pi,epsilon,cumulative_rewards):\n",
        "\n",
        "    N = np.size(A)\n",
        "    M = N * np.power(2, N)\n",
        "\n",
        "    V = np.zeros((M,))\n",
        "    iteration = 0\n",
        "\n",
        "    while True:\n",
        "        delta = 0\n",
        "        cumulative_gain = 0\n",
        "        prev_V = V.copy()\n",
        "        for sidx in range(M):\n",
        "            s = S[sidx]\n",
        "            a = pi[sidx]\n",
        "            p, sidx_next = get_transition_probabilities(a, s, S, P)\n",
        "            r = get_transition_reward(a, s, R, P, c)\n",
        "\n",
        "            V[sidx] = np.sum(p * (r + gamma * prev_V[sidx_next]))\n",
        "\n",
        "            delta = np.max(np.abs(prev_V-V))\n",
        "\n",
        "            cumulative_gain += V[sidx]\n",
        "\n",
        "        cumulative_rewards.append(cumulative_gain)\n",
        "\n",
        "        if  delta < epsilon:\n",
        "            break\n",
        "\n",
        "        iteration += 1\n",
        "    return V\n",
        "\n",
        "\n",
        "def policy_improvement(V,S,A,P,R,gamma,c):\n",
        "\n",
        "    N = np.size(A)\n",
        "    M = N*np.power(2,N)\n",
        "\n",
        "    Q = np.zeros((M,N), dtype=np.float64)\n",
        "\n",
        "    for sidx in range(M):\n",
        "        s = S[sidx]\n",
        "        for a in range(N):\n",
        "            p, sidx_next = get_transition_probabilities(a, s, S, P)\n",
        "            r = get_transition_reward(a, s, R, P, c)\n",
        "            Q[sidx][a] = np.sum(p*(r+gamma*V[sidx_next]))\n",
        "    new_pi = {s: np.argmax(Q[s]) for s in range(M)}\n",
        "    return new_pi\n",
        "\n",
        "\n",
        "def policy_iteration(S,A,P,R,gamma,c,epsilon):\n",
        "    t = 0\n",
        "    N = np.size(A)\n",
        "    M = N*np.power(2,N)\n",
        "\n",
        "    cumulative_rewards = []\n",
        "\n",
        "    pi = {s: np.random.choice(A) for s in range(M)}\n",
        "    while True:\n",
        "        old_pi = pi.copy()\n",
        "        V = policy_evaluation(S,A,P,R,gamma,c,pi,epsilon,cumulative_rewards)\n",
        "        pi = policy_improvement(V,S,A,P,R,gamma,c)\n",
        "        t += 1\n",
        "        if old_pi == pi:\n",
        "            break\n",
        "\n",
        "    plt.plot(cumulative_rewards)\n",
        "    plt.xlabel('Iteration')\n",
        "    plt.ylabel('Cumulative Reward')\n",
        "    plt.show()\n",
        "    print(\"\")\n",
        "\n",
        "\n",
        "    return V, pi, t"
      ],
      "metadata": {
        "id": "ecje76AETyCH"
      },
      "execution_count": null,
      "outputs": []
    },
    {
      "cell_type": "markdown",
      "source": [
        "**Environment Generation**"
      ],
      "metadata": {
        "id": "5Zw6URswgSHQ"
      }
    },
    {
      "cell_type": "code",
      "source": [
        "def mdp_environment(N):\n",
        "\n",
        "      # State Space\n",
        "      S = generate_state_space(N)\n",
        "\n",
        "      # Action Space\n",
        "      A = [i for i in range(N)]\n",
        "\n",
        "      # High / Low probabilities per Markov chain\n",
        "      P = generate_markov_probabilities(N)\n",
        "\n",
        "      # High / Low rewards per Markov chain\n",
        "      r_stock = generate_stock_rewards(N)\n",
        "\n",
        "      # Discount Rate\n",
        "      gamma = 0.9\n",
        "\n",
        "      # Transaction fee\n",
        "      c = 0.01\n",
        "\n",
        "      return S, A, P, r_stock, gamma, c"
      ],
      "metadata": {
        "id": "gG5FIpdQ6lwX"
      },
      "execution_count": null,
      "outputs": []
    },
    {
      "cell_type": "markdown",
      "source": [
        "**Main Program**"
      ],
      "metadata": {
        "id": "4H9ty63XhCV9"
      }
    },
    {
      "cell_type": "code",
      "source": [
        "if __name__ == '__main__':\n",
        "\n",
        "    # Call Envirnment\n",
        "\n",
        "    N = 3\n",
        "    S, A, P, r_stock, gamma, c = mdp_environment(N)\n",
        "    print(\"State Space:\", S);print(\"\")\n",
        "    print(\"Action Space:\", A);print(\"\")\n",
        "    print(\"Markov Chain Probabilities:\");print(P);print(\"\")\n",
        "    print(\"Markov Chain Rewards:\");print(r_stock);print(\"\")\n",
        "    print(\"Discount Factor:\", gamma);print(\"\")\n",
        "    print(\"Transaction fee:\", c);print(\"\")\n",
        "\n",
        "\n",
        "    # Call Agent\n",
        "\n",
        "    V, pi, t = policy_iteration(S,A,P,r_stock,gamma,c,1e-10)\n",
        "\n",
        "    if N < 4:\n",
        "        for i in range(N*2**N):\n",
        "            print(\"For State\", i,\"| Optimal policy pi(s) =\",pi[i], \"| Expected Reward Gt =\", \"{:.5f}\".format(V[i]));print(\"\")\n",
        "\n",
        "    print(\"PI Algorithm Iterations : \", t)"
      ],
      "metadata": {
        "id": "D1zYjVYFj_eG",
        "colab": {
          "base_uri": "https://localhost:8080/",
          "height": 1000
        },
        "outputId": "ba471866-67a7-4b72-f275-01d06d739228"
      },
      "execution_count": 13,
      "outputs": [
        {
          "output_type": "stream",
          "name": "stdout",
          "text": [
            "State Space: {0: [0, 1, 1, 1], 1: [0, 1, 1, 0], 2: [0, 1, 0, 1], 3: [0, 1, 0, 0], 4: [0, 0, 1, 1], 5: [0, 0, 1, 0], 6: [0, 0, 0, 1], 7: [0, 0, 0, 0], 8: [1, 1, 1, 1], 9: [1, 1, 1, 0], 10: [1, 1, 0, 1], 11: [1, 1, 0, 0], 12: [1, 0, 1, 1], 13: [1, 0, 1, 0], 14: [1, 0, 0, 1], 15: [1, 0, 0, 0], 16: [2, 1, 1, 1], 17: [2, 1, 1, 0], 18: [2, 1, 0, 1], 19: [2, 1, 0, 0], 20: [2, 0, 1, 1], 21: [2, 0, 1, 0], 22: [2, 0, 0, 1], 23: [2, 0, 0, 0]}\n",
            "\n",
            "Action Space: [0, 1, 2]\n",
            "\n",
            "Markov Chain Probabilities:\n",
            "[[0.9 0.9 0.5]\n",
            " [0.1 0.1 0.5]\n",
            " [0.1 0.1 0.5]\n",
            " [0.9 0.9 0.5]]\n",
            "\n",
            "Markov Chain Rewards:\n",
            "[[0.04193856 0.03385689 0.05976026]\n",
            " [0.00020808 0.09589691 0.04016408]]\n",
            "\n",
            "Discount Factor: 0.9\n",
            "\n",
            "Transaction fee: 0.01\n",
            "\n"
          ]
        },
        {
          "output_type": "display_data",
          "data": {
            "text/plain": [
              "<Figure size 640x480 with 1 Axes>"
            ],
            "image/png": "[encoded data removed]"
          },
          "metadata": {}
        },
        {
          "output_type": "stream",
          "name": "stdout",
          "text": [
            "\n",
            "For State 0 | Optimal policy pi(s) = 2 | Expected Reward Gt = 0.60833\n",
            "\n",
            "For State 1 | Optimal policy pi(s) = 2 | Expected Reward Gt = 0.60833\n",
            "\n",
            "For State 2 | Optimal policy pi(s) = 1 | Expected Reward Gt = 0.75022\n",
            "\n",
            "For State 3 | Optimal policy pi(s) = 1 | Expected Reward Gt = 0.75022\n",
            "\n",
            "For State 4 | Optimal policy pi(s) = 2 | Expected Reward Gt = 0.60833\n",
            "\n",
            "For State 5 | Optimal policy pi(s) = 2 | Expected Reward Gt = 0.60833\n",
            "\n",
            "For State 6 | Optimal policy pi(s) = 1 | Expected Reward Gt = 0.75022\n",
            "\n",
            "For State 7 | Optimal policy pi(s) = 1 | Expected Reward Gt = 0.75022\n",
            "\n",
            "For State 8 | Optimal policy pi(s) = 2 | Expected Reward Gt = 0.60833\n",
            "\n",
            "For State 9 | Optimal policy pi(s) = 2 | Expected Reward Gt = 0.60833\n",
            "\n",
            "For State 10 | Optimal policy pi(s) = 1 | Expected Reward Gt = 0.76022\n",
            "\n",
            "For State 11 | Optimal policy pi(s) = 1 | Expected Reward Gt = 0.76022\n",
            "\n",
            "For State 12 | Optimal policy pi(s) = 2 | Expected Reward Gt = 0.60833\n",
            "\n",
            "For State 13 | Optimal policy pi(s) = 2 | Expected Reward Gt = 0.60833\n",
            "\n",
            "For State 14 | Optimal policy pi(s) = 1 | Expected Reward Gt = 0.76022\n",
            "\n",
            "For State 15 | Optimal policy pi(s) = 1 | Expected Reward Gt = 0.76022\n",
            "\n",
            "For State 16 | Optimal policy pi(s) = 2 | Expected Reward Gt = 0.61833\n",
            "\n",
            "For State 17 | Optimal policy pi(s) = 2 | Expected Reward Gt = 0.61833\n",
            "\n",
            "For State 18 | Optimal policy pi(s) = 1 | Expected Reward Gt = 0.75022\n",
            "\n",
            "For State 19 | Optimal policy pi(s) = 1 | Expected Reward Gt = 0.75022\n",
            "\n",
            "For State 20 | Optimal policy pi(s) = 2 | Expected Reward Gt = 0.61833\n",
            "\n",
            "For State 21 | Optimal policy pi(s) = 2 | Expected Reward Gt = 0.61833\n",
            "\n",
            "For State 22 | Optimal policy pi(s) = 1 | Expected Reward Gt = 0.75022\n",
            "\n",
            "For State 23 | Optimal policy pi(s) = 1 | Expected Reward Gt = 0.75022\n",
            "\n",
            "PI Algorithm Iterations :  3\n"
          ]
        }
      ]
    }
  ]
}